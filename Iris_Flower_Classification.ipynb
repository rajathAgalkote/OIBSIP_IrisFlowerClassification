{
  "nbformat": 4,
  "nbformat_minor": 0,
  "metadata": {
    "colab": {
      "private_outputs": true,
      "provenance": [],
      "collapsed_sections": [
        "gIfDvo9L0UH2"
      ],
      "include_colab_link": true
    },
    "kernelspec": {
      "name": "python3",
      "display_name": "Python 3"
    },
    "language_info": {
      "name": "python"
    }
  },
  "cells": [
    {
      "cell_type": "markdown",
      "metadata": {
        "id": "view-in-github",
        "colab_type": "text"
      },
      "source": [
        "<a href=\"https://colab.research.google.com/github/rajathAgalkote/OIBSIP_IrisFlowerClassification/blob/main/Iris_Flower_Classification.ipynb\" target=\"_parent\"><img src=\"https://colab.research.google.com/assets/colab-badge.svg\" alt=\"Open In Colab\"/></a>"
      ]
    },
    {
      "cell_type": "markdown",
      "source": [
        "# **Project Name**    - Iris Flower Classification\n",
        "\n"
      ],
      "metadata": {
        "id": "vncDsAP0Gaoa"
      }
    },
    {
      "cell_type": "markdown",
      "source": [
        "##### **Project Type**    - Classification\n",
        "##### **By**    - Rajathadri A S"
      ],
      "metadata": {
        "id": "beRrZCGUAJYm"
      }
    },
    {
      "cell_type": "markdown",
      "source": [
        "# **Project Summary -**"
      ],
      "metadata": {
        "id": "FJNUwmbgGyua"
      }
    },
    {
      "cell_type": "markdown",
      "source": [
        "The Iris Flower Species Prediction Project aimed to develop a machine learning model that could accurately classify Iris flowers into their respective species based on their measurement specifications. The dataset consisted of 150 instances of Iris flowers, with four features: sepal length, sepal width, petal length, and petal width, and the target variable was the species of the flower.\n",
        "\n",
        "The project began with exploratory data analysis, which indicated that all four features were uniquely distributed for different species, making it easier for ML models to predict the species more accurately. Two classification models were developed, and their performance was evaluated using various metrics such as confusion matrix and classification reports.\n",
        "\n",
        "The results showed that the K-Nearest Neighbors (KNN) algorithm without hyperparameter tuning achieved the best accuracy, precision, recall, and F1-score for all classes, yielding a perfect score of 100%. The model was able to generalize well to new data and classify the Iris flowers accurately into their respective species categories.\n",
        "\n",
        "In conclusion, the project successfully developed a machine learning model that accurately predicted the species of Iris flowers based on their measurement specifications, which has practical applications in botany, ecology, and horticulture. The KNN algorithm without hyperparameter tuning yielded the best results, and the model's performance was validated using various metrics, indicating optimal performance."
      ],
      "metadata": {
        "id": "F6v_1wHtG2nS"
      }
    },
    {
      "cell_type": "markdown",
      "source": [
        "# **GitHub Link -**"
      ],
      "metadata": {
        "id": "w6K7xa23Elo4"
      }
    },
    {
      "cell_type": "markdown",
      "source": [
        "https://github.com/rajathAgalkote/OIBSIP_IrisFlowerClassification"
      ],
      "metadata": {
        "id": "h1o69JH3Eqqn"
      }
    },
    {
      "cell_type": "markdown",
      "source": [
        "# **Problem Statement**\n"
      ],
      "metadata": {
        "id": "yQaldy8SH6Dl"
      }
    },
    {
      "cell_type": "markdown",
      "source": [
        "The goal of this project is to develop a machine learning classifier that accurately predicts the species of the Iris flower based on its measurement specifications. The dataset consists of 150 instances of Iris flowers, each with four features: sepal length, sepal width, petal length, and petal width. The target variable is the species of the flower, which can be one of three categories: Setosa, Versicolor, and Virginica.\n",
        "\n",
        "The project requires developing an efficient classification algorithm that can accurately classify Iris flowers into their respective species. The algorithm should be trained on a subset of the available data and then validated on a separate subset to ensure that it generalizes well to new data. The project's success will be measured based on the accuracy of the classification algorithm's predictions on the validation set.\n",
        "\n",
        "The solution to this problem will have several practical applications, including botany, ecology, and horticulture, as it will help classify Iris flowers based on their morphological characteristics. The problem is important because accurate classification of Iris flowers is essential for understanding their ecological roles, conserving their biodiversity, and developing new cultivars for horticulture."
      ],
      "metadata": {
        "id": "DpeJGUA3kjGy"
      }
    },
    {
      "cell_type": "markdown",
      "source": [
        "## ***1. Exploring the Dataset***"
      ],
      "metadata": {
        "id": "HhfV-JJviCcP"
      }
    },
    {
      "cell_type": "markdown",
      "source": [
        "### Importing Libraries"
      ],
      "metadata": {
        "id": "Y3lxredqlCYt"
      }
    },
    {
      "cell_type": "code",
      "source": [
        "# Import Libraries\n",
        "\n",
        "\n",
        "# Data Wrangling Libraries\n",
        "import numpy as np\n",
        "import pandas as pd\n",
        "\n",
        "# Graphing/Plotting libraries\n",
        "import matplotlib.pyplot as plt\n",
        "import seaborn as sns\n",
        "\n",
        "# ML libraries\n",
        "from sklearn.metrics import accuracy_score, classification_report\n",
        "from sklearn.neighbors import KNeighborsClassifier\n",
        "from sklearn.preprocessing import StandardScaler\n",
        "from sklearn.preprocessing import MinMaxScaler\n",
        "from sklearn.model_selection import cross_val_score\n",
        "from sklearn.model_selection import GridSearchCV\n",
        "from scipy import stats\n",
        "from sklearn.model_selection import train_test_split\n",
        "from sklearn.linear_model import LogisticRegression\n",
        "from sklearn.metrics import classification_report\n",
        "from sklearn.metrics import confusion_matrix\n",
        "from sklearn import metrics\n",
        "\n",
        "# Miscellaneous libraries\n",
        "import warnings\n",
        "from google.colab import drive"
      ],
      "metadata": {
        "id": "M8Vqi-pPk-HR"
      },
      "execution_count": null,
      "outputs": []
    },
    {
      "cell_type": "code",
      "source": [
        "# Visualization style \n",
        "sns.set_style('whitegrid')\n",
        "plt.rcParams['font.size'] = 14\n",
        "plt.rcParams['figure.figsize'] = (7,4)\n",
        "plt.rcParams['figure.facecolor'] = '#00000000'\n",
        "plt.rcParams[\"figure.autolayout\"] = True"
      ],
      "metadata": {
        "id": "F78PRpFolAEy"
      },
      "execution_count": null,
      "outputs": []
    },
    {
      "cell_type": "code",
      "source": [
        "# Ignoring all warnings\n",
        "\n",
        "warnings.filterwarnings('ignore')"
      ],
      "metadata": {
        "id": "2hZlQqarlF5P"
      },
      "execution_count": null,
      "outputs": []
    },
    {
      "cell_type": "markdown",
      "source": [
        "### Dataset Loading"
      ],
      "metadata": {
        "id": "3RnN4peoiCZX"
      }
    },
    {
      "cell_type": "code",
      "source": [
        "# Load Dataset\n",
        "# mount Drive\n",
        "\n",
        "drive.mount('/content/drive')"
      ],
      "metadata": {
        "id": "4CkvbW_SlZ_R"
      },
      "execution_count": null,
      "outputs": []
    },
    {
      "cell_type": "code",
      "source": [
        "raw_data = pd.read_csv(\"/content/drive/MyDrive/OIBSIP/Iris_Classifier/Iris.csv\")\n",
        "\n",
        "df = raw_data"
      ],
      "metadata": {
        "id": "NRTZXSQ9lNZo"
      },
      "execution_count": null,
      "outputs": []
    },
    {
      "cell_type": "markdown",
      "source": [
        "### Dataset First View"
      ],
      "metadata": {
        "id": "x71ZqKXriCWQ"
      }
    },
    {
      "cell_type": "code",
      "source": [
        "# Dataset First Look\n",
        "\n",
        "df.head()"
      ],
      "metadata": {
        "id": "LWNFOSvLl09H"
      },
      "execution_count": null,
      "outputs": []
    },
    {
      "cell_type": "code",
      "source": [
        "df.shape"
      ],
      "metadata": {
        "id": "WURo9BPolxvx"
      },
      "execution_count": null,
      "outputs": []
    },
    {
      "cell_type": "code",
      "source": [
        "df.columns"
      ],
      "metadata": {
        "id": "D1x-l5IFlzmP"
      },
      "execution_count": null,
      "outputs": []
    },
    {
      "cell_type": "markdown",
      "source": [
        "### Dataset Information"
      ],
      "metadata": {
        "id": "JlHwYmJAmNHm"
      }
    },
    {
      "cell_type": "code",
      "source": [
        "# Dataset Info\n",
        "\n",
        "df.info()"
      ],
      "metadata": {
        "id": "e9hRXRi6meOf"
      },
      "execution_count": null,
      "outputs": []
    },
    {
      "cell_type": "markdown",
      "source": [
        "Our target variable is an Object Datatype"
      ],
      "metadata": {
        "id": "DnfNMknwmDX_"
      }
    },
    {
      "cell_type": "markdown",
      "source": [
        "#### Duplicate Values"
      ],
      "metadata": {
        "id": "35m5QtbWiB9F"
      }
    },
    {
      "cell_type": "code",
      "source": [
        "# Dataset Duplicate Value Count\n",
        "len(df[df.duplicated()])"
      ],
      "metadata": {
        "id": "1sLdpKYkmox0"
      },
      "execution_count": null,
      "outputs": []
    },
    {
      "cell_type": "markdown",
      "source": [
        "No duplicates."
      ],
      "metadata": {
        "id": "K_Er_THNmREU"
      }
    },
    {
      "cell_type": "markdown",
      "source": [
        "#### Missing Values/Null Values"
      ],
      "metadata": {
        "id": "PoPl-ycgm1ru"
      }
    },
    {
      "cell_type": "code",
      "source": [
        "# Missing Values/Null Values Count\n",
        "print(df.isnull().sum())"
      ],
      "metadata": {
        "id": "GgHWkxvamxVg"
      },
      "execution_count": null,
      "outputs": []
    },
    {
      "cell_type": "code",
      "source": [
        "# Visualizing the missing values\n",
        "\n",
        "plt.figure(figsize=(10,3))\n",
        "sns.heatmap(df.isnull(), cbar=False)"
      ],
      "metadata": {
        "id": "3q5wnI3om9sJ"
      },
      "execution_count": null,
      "outputs": []
    },
    {
      "cell_type": "markdown",
      "source": [
        "## ***2. Understanding the Variables***"
      ],
      "metadata": {
        "id": "nA9Y7ga8ng1Z"
      }
    },
    {
      "cell_type": "code",
      "source": [
        "# Dataset Describe\n",
        "\n",
        "df.describe().T"
      ],
      "metadata": {
        "id": "DnOaZdaE5Q5t"
      },
      "execution_count": null,
      "outputs": []
    },
    {
      "cell_type": "markdown",
      "source": [
        "### Check Unique Values of species"
      ],
      "metadata": {
        "id": "u3PMJOP6ngxN"
      }
    },
    {
      "cell_type": "code",
      "source": [
        "# Check Unique Values for species\n",
        "\n",
        "df['Species'].value_counts()"
      ],
      "metadata": {
        "id": "zms12Yq5n-jE"
      },
      "execution_count": null,
      "outputs": []
    },
    {
      "cell_type": "markdown",
      "source": [
        "## 3. ***Data Wrangling***"
      ],
      "metadata": {
        "id": "dauF4eBmngu3"
      }
    },
    {
      "cell_type": "markdown",
      "source": [
        "We don't require ID feature. Hence, we will drop it."
      ],
      "metadata": {
        "id": "wetRQLcKn1ip"
      }
    },
    {
      "cell_type": "code",
      "source": [
        "# Dropping unwanted features\n",
        "df=df.drop(columns=['Id'])\n",
        "\n",
        "df.head()"
      ],
      "metadata": {
        "id": "M32sfqEUnwm-"
      },
      "execution_count": null,
      "outputs": []
    },
    {
      "cell_type": "markdown",
      "source": [
        "Species is an Object dtype. We will convert it to Numerical variable.\n",
        "\n",
        "Iris-setosa      -->  2\n",
        "\n",
        "Iris-versicolor  -->  3\n",
        "\n",
        "Iris-virginica   -->  4"
      ],
      "metadata": {
        "id": "pyZMXuamoBAD"
      }
    },
    {
      "cell_type": "code",
      "source": [
        "# Replacing Object with Numbers 2,3 and 4\n",
        "\n",
        "df[\"Species\"].replace({\"Iris-setosa\": 2, \"Iris-versicolor\": 3, \"Iris-virginica\": 4}, inplace = True)"
      ],
      "metadata": {
        "id": "jcuSvpk2oY0A"
      },
      "execution_count": null,
      "outputs": []
    },
    {
      "cell_type": "code",
      "source": [
        "df"
      ],
      "metadata": {
        "id": "oITZppbUomej"
      },
      "execution_count": null,
      "outputs": []
    },
    {
      "cell_type": "markdown",
      "source": [
        "## ***4. EDA AND Visualizations***"
      ],
      "metadata": {
        "id": "GF8Ens_Soomf"
      }
    },
    {
      "cell_type": "markdown",
      "source": [
        "#### Chart - 1"
      ],
      "metadata": {
        "id": "0wOQAZs5pc--"
      }
    },
    {
      "cell_type": "code",
      "source": [
        "# Chart - 1 visualization code"
      ],
      "metadata": {
        "id": "7v_ESjsspbW7"
      },
      "execution_count": null,
      "outputs": []
    },
    {
      "cell_type": "code",
      "source": [
        "species_counts = df['Species'].value_counts()\n",
        "plt.pie(species_counts, labels=species_counts.index, autopct='%1.1f%%')\n",
        "plt.title('Species Distribution')\n",
        "plt.show()"
      ],
      "metadata": {
        "id": "eyPBLBpU1Fes"
      },
      "execution_count": null,
      "outputs": []
    },
    {
      "cell_type": "markdown",
      "source": [
        "#### Chart - 2"
      ],
      "metadata": {
        "id": "KSlN3yHqYklG"
      }
    },
    {
      "cell_type": "code",
      "source": [
        "# Chart - 2 visualization code"
      ],
      "metadata": {
        "id": "R4YgtaqtYklH"
      },
      "execution_count": null,
      "outputs": []
    },
    {
      "cell_type": "code",
      "source": [
        "# Create the Distribution plot\n",
        "sns.displot(x=df['Species'], y= df['SepalLengthCm'])\n",
        "plt.xlabel('Species')\n",
        "plt.ylabel('Sepal Length')\n",
        "plt.show()"
      ],
      "metadata": {
        "id": "tNVjpyWw1lHH"
      },
      "execution_count": null,
      "outputs": []
    },
    {
      "cell_type": "markdown",
      "source": [
        "#### Chart - 3"
      ],
      "metadata": {
        "id": "EM7whBJCYoAo"
      }
    },
    {
      "cell_type": "code",
      "source": [
        "# Chart - 3 visualization code"
      ],
      "metadata": {
        "id": "t6GMdE67YoAp"
      },
      "execution_count": null,
      "outputs": []
    },
    {
      "cell_type": "code",
      "source": [
        "# Create the Distribution plot\n",
        "sns.displot(x=df['Species'], y= df['SepalWidthCm'])\n",
        "plt.xlabel('Species')\n",
        "plt.ylabel('Sepal Width')\n",
        "plt.show()"
      ],
      "metadata": {
        "id": "xS1Bi1G22QnV"
      },
      "execution_count": null,
      "outputs": []
    },
    {
      "cell_type": "markdown",
      "source": [
        "#### Chart - 4"
      ],
      "metadata": {
        "id": "4Of9eVA-YrdM"
      }
    },
    {
      "cell_type": "code",
      "source": [
        "# Chart - 4 visualization code"
      ],
      "metadata": {
        "id": "irlUoxc8YrdO"
      },
      "execution_count": null,
      "outputs": []
    },
    {
      "cell_type": "code",
      "source": [
        "# Create the distribution plot\n",
        "sns.displot(x=df['Species'], y= df['PetalLengthCm'])\n",
        "plt.xlabel('Species')\n",
        "plt.ylabel('Petal Length')\n",
        "plt.show()"
      ],
      "metadata": {
        "id": "IkxMDjH72b1-"
      },
      "execution_count": null,
      "outputs": []
    },
    {
      "cell_type": "markdown",
      "source": [
        "#### Chart - 5"
      ],
      "metadata": {
        "id": "bamQiAODYuh1"
      }
    },
    {
      "cell_type": "code",
      "source": [
        "# Chart - 5 visualization code"
      ],
      "metadata": {
        "id": "TIJwrbroYuh3"
      },
      "execution_count": null,
      "outputs": []
    },
    {
      "cell_type": "code",
      "source": [
        "# Create the distribution plot\n",
        "sns.displot(x=df['Species'], y= df['PetalWidthCm'])\n",
        "plt.xlabel('Species')\n",
        "plt.ylabel('Petal Width')\n",
        "plt.show()"
      ],
      "metadata": {
        "id": "qcoKkKhb2oPo"
      },
      "execution_count": null,
      "outputs": []
    },
    {
      "cell_type": "markdown",
      "source": [
        "#### Chart - 6 - Correlation Heatmap"
      ],
      "metadata": {
        "id": "NC_X3p0fY2L0"
      }
    },
    {
      "cell_type": "code",
      "source": [
        "# Correlation Heatmap visualization code"
      ],
      "metadata": {
        "id": "xyC9zolEZNRQ"
      },
      "execution_count": null,
      "outputs": []
    },
    {
      "cell_type": "code",
      "source": [
        "# Checking for multi-collinearity\n",
        "correlation = df.corr()\n",
        "\n",
        "plt.figure(figsize=[15, 5])\n",
        "sns.heatmap(correlation, annot=True, annot_kws={'fontsize': 10})\n",
        "plt.show()"
      ],
      "metadata": {
        "id": "lD9iQMa5270x"
      },
      "execution_count": null,
      "outputs": []
    },
    {
      "cell_type": "markdown",
      "source": [
        "## ***5. Feature Engineering & Data Pre-processing***"
      ],
      "metadata": {
        "id": "yLjJCtPM0KBk"
      }
    },
    {
      "cell_type": "markdown",
      "source": [
        "### Data Scaling"
      ],
      "metadata": {
        "id": "rMDnDkt2B6du"
      }
    },
    {
      "cell_type": "code",
      "source": [
        "# Scaling the data\n",
        "\n",
        "# Defining X and y\n",
        "\n",
        "X = df.drop(['Species'], axis = 1)\n",
        "y = df['Species']"
      ],
      "metadata": {
        "id": "dL9LWpySC6x_"
      },
      "execution_count": null,
      "outputs": []
    },
    {
      "cell_type": "code",
      "source": [
        "# Scaling values of X\n",
        "\n",
        "scaler = MinMaxScaler()\n",
        "X_scaled = scaler.fit_transform(X)"
      ],
      "metadata": {
        "id": "ZV9OfGlb4Dwr"
      },
      "execution_count": null,
      "outputs": []
    },
    {
      "cell_type": "markdown",
      "source": [
        "### Data Splitting"
      ],
      "metadata": {
        "id": "BhH2vgX9EjGr"
      }
    },
    {
      "cell_type": "code",
      "source": [
        "# Splitting dataset into test and train dataframes\n",
        "\n",
        "X_train, X_test, y_train, y_test = train_test_split(X_scaled, y, test_size = 0.20, random_state = 42)"
      ],
      "metadata": {
        "id": "0CTyd2UwEyNM"
      },
      "execution_count": null,
      "outputs": []
    },
    {
      "cell_type": "code",
      "source": [
        "X_train.shape"
      ],
      "metadata": {
        "id": "KNI-SNNw4Wew"
      },
      "execution_count": null,
      "outputs": []
    },
    {
      "cell_type": "code",
      "source": [
        "X_test.shape"
      ],
      "metadata": {
        "id": "Pqq9EQYW4WbM"
      },
      "execution_count": null,
      "outputs": []
    },
    {
      "cell_type": "code",
      "source": [
        "y_train.shape"
      ],
      "metadata": {
        "id": "-gK4PWNk4WWu"
      },
      "execution_count": null,
      "outputs": []
    },
    {
      "cell_type": "code",
      "source": [
        "y_test.shape"
      ],
      "metadata": {
        "id": "ulrhjwL94WTM"
      },
      "execution_count": null,
      "outputs": []
    },
    {
      "cell_type": "markdown",
      "source": [
        "## ***6. ML Model Implementation***"
      ],
      "metadata": {
        "id": "VfCC591jGiD4"
      }
    },
    {
      "cell_type": "markdown",
      "source": [
        "### ML Model - 1\n",
        "### Logistic Regression"
      ],
      "metadata": {
        "id": "OB4l2ZhMeS1U"
      }
    },
    {
      "cell_type": "code",
      "source": [
        "# Logistic Regression Model\n",
        "\n",
        "lr = LogisticRegression()\n",
        "lr.fit(X_train, y_train)"
      ],
      "metadata": {
        "id": "vN7DNuBk4v1u"
      },
      "execution_count": null,
      "outputs": []
    },
    {
      "cell_type": "code",
      "source": [
        "# Prediction\n",
        "\n",
        "y_pred_test = lr.predict(X_test)\n",
        "y_pred_train = lr.predict(X_train)"
      ],
      "metadata": {
        "id": "hXV0wEwH46Da"
      },
      "execution_count": null,
      "outputs": []
    },
    {
      "cell_type": "code",
      "source": [
        "# Evaluation Metrics for Train data\n",
        "\n",
        "# Classification Report\n",
        "print('Classification report for Logistic Regression (Train set) = \\n')\n",
        "print(classification_report(y_pred_train, y_train))"
      ],
      "metadata": {
        "id": "3KUkdGMw46Aq"
      },
      "execution_count": null,
      "outputs": []
    },
    {
      "cell_type": "code",
      "source": [
        "# Evaluation Metrics for test data\n",
        "\n",
        "# Classification Report\n",
        "print('Classification report for Logistic Regression (Test set)= \\n')\n",
        "print(classification_report(y_pred_test, y_test))"
      ],
      "metadata": {
        "id": "T0LMti6245-Q"
      },
      "execution_count": null,
      "outputs": []
    },
    {
      "cell_type": "code",
      "source": [
        "# Use GridSearchCV to find the best result\n",
        "\n",
        "lr = LogisticRegression()\n",
        "\n",
        "param_grid = {'C': [0.001, 0.01, 0.1, 1, 10, 100]}\n",
        "grid = GridSearchCV(lr, param_grid, cv=5)\n",
        "grid.fit(X_train, y_train)"
      ],
      "metadata": {
        "id": "tRVn3Jyi457M"
      },
      "execution_count": null,
      "outputs": []
    },
    {
      "cell_type": "code",
      "source": [
        "# predict on test data\n",
        "\n",
        "y_pred = grid.predict(X_test)"
      ],
      "metadata": {
        "id": "LyiALy1D454M"
      },
      "execution_count": null,
      "outputs": []
    },
    {
      "cell_type": "code",
      "source": [
        "# print classification report for test data\n",
        "\n",
        "print(\"Classification report for test data: \\n\")\n",
        "print(classification_report(y_test, y_pred))"
      ],
      "metadata": {
        "id": "da0k6Li_5Xrj"
      },
      "execution_count": null,
      "outputs": []
    },
    {
      "cell_type": "code",
      "source": [
        "# Generating the confusion matrix\n",
        "cf_matrix = confusion_matrix(y_test, y_pred)\n",
        "\n",
        "print(cf_matrix)"
      ],
      "metadata": {
        "id": "rcuBcZkT5XhN"
      },
      "execution_count": null,
      "outputs": []
    },
    {
      "cell_type": "markdown",
      "source": [
        "**Logistic Regression Model Report:**\n",
        "\n",
        "Logistic Regression Classifier Model had the following metrics:\n",
        "\n",
        "1. Train Set Accuracy score : 93%\n",
        "2. Test Set Accuracy score : 97%\n",
        "3. Test Set Accuracy score after Hyperparameter tuning : 100%"
      ],
      "metadata": {
        "id": "7S8ICMpo5k_I"
      }
    },
    {
      "cell_type": "markdown",
      "source": [
        "Hence, our LR Model is perfoeming well on our Iris Classification Dataset."
      ],
      "metadata": {
        "id": "11kjVHaa6Hlc"
      }
    },
    {
      "cell_type": "markdown",
      "source": [
        "### ML Model - 2"
      ],
      "metadata": {
        "id": "dJ2tPlVmpsJ0"
      }
    },
    {
      "cell_type": "code",
      "source": [
        "# K Nearest Neighbors Model\n",
        "\n",
        "k=7\n",
        "\n",
        "clf=KNeighborsClassifier(k)\n",
        "\n",
        "clf.fit(X_train,y_train)"
      ],
      "metadata": {
        "id": "MWoUoC_m6ZFX"
      },
      "execution_count": null,
      "outputs": []
    },
    {
      "cell_type": "code",
      "source": [
        "# Making the predications \n",
        "\n",
        "y_pred_train = clf.predict(X_train)\n",
        "y_pred_test = clf.predict(X_test)"
      ],
      "metadata": {
        "id": "NKlG09z77F8H"
      },
      "execution_count": null,
      "outputs": []
    },
    {
      "cell_type": "code",
      "source": [
        "# Evaluation Metrics for Train data\n",
        "\n",
        "# Classification Report\n",
        "print('Classification report for KNN Classifier (Train set) = \\n')\n",
        "print(classification_report(y_pred_train, y_train))"
      ],
      "metadata": {
        "id": "0T_giHX07F5j"
      },
      "execution_count": null,
      "outputs": []
    },
    {
      "cell_type": "code",
      "source": [
        "# Evaluation Metrics for test data\n",
        "\n",
        "# Classification Report\n",
        "print('Classification report for KNN Classifier (Test set)= \\n')\n",
        "print(classification_report(y_pred_test, y_test))"
      ],
      "metadata": {
        "id": "ADIUQMk97hoK"
      },
      "execution_count": null,
      "outputs": []
    },
    {
      "cell_type": "code",
      "source": [
        "# Generate the confusion matrix\n",
        "\n",
        "cf_matrix = confusion_matrix(y_test, y_pred_test)\n",
        "\n",
        "print(cf_matrix)"
      ],
      "metadata": {
        "id": "dtOwPLn-7hfK"
      },
      "execution_count": null,
      "outputs": []
    },
    {
      "cell_type": "markdown",
      "source": [
        "**KNN Classifier Model Report:**\n",
        "\n",
        "K-Nearest Neighbors Classifier Model had the following metrics:\n",
        "\n",
        "1. Train Set Accuracy score : 97%\n",
        "2. Test Set Accuracy score : 100%\n",
        "3. Test Set Accuracy score after Hyperparameter tuning : -"
      ],
      "metadata": {
        "id": "S3T7dFsg75DI"
      }
    },
    {
      "cell_type": "markdown",
      "source": [
        "We did not even need to perform Hyperparameter tuning as our KNN Classifier displayed perfect accuracy in predictions on the Test Dataset."
      ],
      "metadata": {
        "id": "YPEjUzkw8Fg_"
      }
    },
    {
      "cell_type": "markdown",
      "source": [
        "# **Conclusion**"
      ],
      "metadata": {
        "id": "gCX9965dhzqZ"
      }
    },
    {
      "cell_type": "markdown",
      "source": [
        "For our Iris Flower Sprcies prediction project, the goal was to build a predictive model that can help us estimate the species of Iris Flower based on its specifications.\n",
        "\n",
        "Our EDA indicates that all the four specifications/features are distributed uniquely for different species, which assists our ML models to predict the species more accurately.\n",
        "\n",
        "We then developed two Classifier models and observed their validations using mainly confusion matrix and classification reports. From our observations, we conclude that KNN algorithm without hyperparameter tuning yielded the best results in predicting the species of Iris Flowers.\n",
        "\n",
        "The KNN Classifier model achieved a 100% accuracy score, precision, recall, and F1- score for all classes, which indicates that the model is performing very well on the test set and able to generalize well to all classes.\n",
        "\n",
        "I would like to conclude by claiming that our model displayed optimal performance and is able to classify the Iris Flowers accurately into their respective Species category."
      ],
      "metadata": {
        "id": "Fjb1IsQkh3yE"
      }
    },
    {
      "cell_type": "markdown",
      "source": [
        "### ***KNN Classifier Model displayed best Classification Accuracy.***"
      ],
      "metadata": {
        "id": "gIfDvo9L0UH2"
      }
    }
  ]
}